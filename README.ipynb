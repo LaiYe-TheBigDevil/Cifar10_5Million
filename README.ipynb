{
 "cells": [
  {
   "cell_type": "markdown",
   "metadata": {},
   "source": [
    "# ResNet Below 5 Million\n",
    "\n",
    "This is the github repository for \"Presumably Great Models Went Wrong: What Did We Learn in a Failed \n",
    "[Kaggle Competition](https://www.kaggle.com/competitions/deep-learning-spring-2025-project-1)\". \n",
    "\n",
    "## Experiments Visualization\n",
    "\n",
    "This project requires [wandb](https://github.com/wandb/wandb) to track experiment records \n",
    "given the high amount of cross-validations. "
   ]
  },
  {
   "cell_type": "code",
   "execution_count": null,
   "metadata": {},
   "outputs": [],
   "source": [
    "!pip install wandb"
   ]
  },
  {
   "cell_type": "markdown",
   "metadata": {},
   "source": [
    "After installing wandb, login using"
   ]
  },
  {
   "cell_type": "code",
   "execution_count": null,
   "metadata": {},
   "outputs": [],
   "source": [
    "!wandb login"
   ]
  },
  {
   "cell_type": "markdown",
   "metadata": {},
   "source": [
    "## Predict on the Kaggle scoring set using the trained model"
   ]
  },
  {
   "cell_type": "code",
   "execution_count": 1,
   "metadata": {},
   "outputs": [
    {
     "name": "stderr",
     "output_type": "stream",
     "text": [
      "c:\\Users\\Lai Ye\\Documents\\GitHub\\Cifar10_5Million\\predict.py:35: FutureWarning: You are using `torch.load` with `weights_only=False` (the current default value), which uses the default pickle module implicitly. It is possible to construct malicious pickle data which will execute arbitrary code during unpickling (See https://github.com/pytorch/pytorch/blob/main/SECURITY.md#untrusted-models for more details). In a future release, the default value for `weights_only` will be flipped to `True`. This limits the functions that could be executed during unpickling. Arbitrary objects will no longer be allowed to be loaded via this mode unless they are explicitly allowlisted by the user via `torch.serialization.add_safe_globals`. We recommend you start setting `weights_only=True` for any use case where you don't have full control of the loaded file. Please open an issue on GitHub for any issues related to this experimental feature.\n",
      "  model.load_state_dict(torch.load(model_path, map_location=device))\n"
     ]
    },
    {
     "name": "stdout",
     "output_type": "stream",
     "text": [
      "Predictions saved to prediction.csv\n"
     ]
    }
   ],
   "source": [
    "from predict import predict\n",
    "predict()"
   ]
  },
  {
   "cell_type": "markdown",
   "metadata": {},
   "source": [
    "This will generate a \"prediction.csv\" in the current folder.\n",
    "\n",
    "## Train\n",
    "\n",
    "The training process has 3 parts.\n",
    "For the first part of training (CV on model structures), run"
   ]
  },
  {
   "cell_type": "code",
   "execution_count": null,
   "metadata": {},
   "outputs": [],
   "source": [
    "from train_cv1 import train\n",
    "train()"
   ]
  },
  {
   "cell_type": "markdown",
   "metadata": {},
   "source": [
    "This should generate a \"scores_cv1.csv\" in the current folder. The scores should look like this table, where each column represents a fold and each row corresponds to a model.\n",
    "\n",
    "|  |  |  |  |  |\n",
    "|----------|----------|----------|----------|----------|\n",
    "| 0.9000 | 0.8972 | 0.9009 | 0.8911 | 0.8985 |\n",
    "| 0.9111 | 0.9106 | 0.9119 | 0.9112 | 0.9168 |\n",
    "| 0.9143 | 0.9120 | 0.9157 | 0.9057 | 0.9143 |\n",
    "| 0.9102 | 0.9042 | 0.9092 | 0.9025 | 0.9130 |\n",
    "| 0.9078 | 0.9032 | 0.9021 | 0.9026 | 0.9046 |\n",
    "\n",
    "For the second part of training (CV on activation order and dropouts), run"
   ]
  },
  {
   "cell_type": "code",
   "execution_count": null,
   "metadata": {},
   "outputs": [],
   "source": [
    "from train_cv2 import train\n",
    "train()"
   ]
  },
  {
   "cell_type": "markdown",
   "metadata": {},
   "source": [
    "This should generate a \"scores_cv2.csv\" in the current folder. The scores should look like this table.\n",
    "\n",
    "|          |          |          |          |          |\n",
    "|----------|----------|----------|----------|----------|\n",
    "| 0.9164   | 0.9158   | 0.9202   | 0.9112   | 0.9189   |\n",
    "| 0.9168   | 0.9180   | 0.9178   | 0.9146   | 0.9187   |\n",
    "| 0.9144   | 0.9102   | 0.9118   | 0.9100   | 0.9201   |\n",
    "| 0.9207   | 0.9236   | 0.9195   | 0.9200   | 0.9241   |\n",
    "\n",
    "For the third part of training run"
   ]
  },
  {
   "cell_type": "code",
   "execution_count": null,
   "metadata": {},
   "outputs": [],
   "source": [
    "from retrain import train\n",
    "train()"
   ]
  },
  {
   "cell_type": "markdown",
   "metadata": {},
   "source": [
    "This traines the model used for predict.py\n",
    "\n",
    "For the training loss and validation curve, please access the run-time link provided by [wandb](https://github.com/wandb/wandb)."
   ]
  }
 ],
 "metadata": {
  "kernelspec": {
   "display_name": "dl",
   "language": "python",
   "name": "python3"
  },
  "language_info": {
   "codemirror_mode": {
    "name": "ipython",
    "version": 3
   },
   "file_extension": ".py",
   "mimetype": "text/x-python",
   "name": "python",
   "nbconvert_exporter": "python",
   "pygments_lexer": "ipython3",
   "version": "3.9.19"
  }
 },
 "nbformat": 4,
 "nbformat_minor": 2
}
